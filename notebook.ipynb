{
 "cells": [
  {
   "cell_type": "code",
   "execution_count": 1,
   "metadata": {},
   "outputs": [],
   "source": [
    "import pandas as pd\n",
    "import numpy as np \n",
    "import matplotlib.pyplot as plt"
   ]
  },
  {
   "cell_type": "code",
   "execution_count": 37,
   "metadata": {},
   "outputs": [],
   "source": [
    "from sklearn.model_selection import train_test_split\n",
    "from sklearn.metrics import confusion_matrix\n",
    "from sklearn.utils import class_weight\n",
    "from sklearn.naive_bayes import GaussianNB\n",
    "from sklearn.metrics import accuracy_score"
   ]
  },
  {
   "cell_type": "code",
   "execution_count": 3,
   "metadata": {},
   "outputs": [
    {
     "name": "stderr",
     "output_type": "stream",
     "text": [
      "2023-05-13 17:55:07.926756: I tensorflow/core/platform/cpu_feature_guard.cc:182] This TensorFlow binary is optimized to use available CPU instructions in performance-critical operations.\n",
      "To enable the following instructions: SSE4.1 SSE4.2 AVX AVX2 FMA, in other operations, rebuild TensorFlow with the appropriate compiler flags.\n"
     ]
    }
   ],
   "source": [
    "from keras.models import Sequential\n",
    "from keras.layers import Dense"
   ]
  },
  {
   "attachments": {},
   "cell_type": "markdown",
   "metadata": {},
   "source": [
    "<h1>Global Terrorism Database</h1>\n",
    "\n",
    "Recognition of whether a terrorist attack is a case of suicide bombing based on region and year of occurence."
   ]
  },
  {
   "attachments": {},
   "cell_type": "markdown",
   "metadata": {},
   "source": [
    "<h3>Data preprocessing</h3>"
   ]
  },
  {
   "cell_type": "code",
   "execution_count": 4,
   "metadata": {},
   "outputs": [],
   "source": [
    "df = pd.read_csv('./terror.csv', low_memory=False) \n"
   ]
  },
  {
   "cell_type": "code",
   "execution_count": 5,
   "metadata": {},
   "outputs": [],
   "source": [
    "weaptypes   = df[[\"weaptype1_txt\", \"weaptype1\"]].drop_duplicates()\n",
    "regions     = df[[\"region\", \"region_txt\"]].drop_duplicates()\n",
    "countries   = df[[\"country\", \"country_txt\"]].drop_duplicates()\n",
    "\n",
    "provstates = df[\"provstate\"].drop_duplicates()\n",
    "# print(f\"Weapon types:\\n\\n{weaptypes}\\n\\nRegions:\\n\\n{regions}\\n\\nCountries:\\n\\n{countries}\")"
   ]
  },
  {
   "cell_type": "code",
   "execution_count": 6,
   "metadata": {},
   "outputs": [],
   "source": [
    "# Map provstate index codes to corresponding string names\n",
    "# to replace the string names in preprocessing\n",
    "\n",
    "provstate_map = {}\n",
    "\n",
    "for index in range(len(provstates.values)):\n",
    "    name = provstates.values[index]\n",
    "    provstate_map[name] = index\n",
    "\n",
    "# 0 is nan value, will be filtered out"
   ]
  },
  {
   "cell_type": "code",
   "execution_count": 7,
   "metadata": {},
   "outputs": [
    {
     "name": "stderr",
     "output_type": "stream",
     "text": [
      "/tmp/ipykernel_16598/2824720494.py:10: UserWarning: Boolean Series key will be reindexed to match DataFrame index.\n",
      "  preprocessed = preprocessed[df[\"provstate\"] != 0]\n"
     ]
    },
    {
     "data": {
      "text/html": [
       "<div>\n",
       "<style scoped>\n",
       "    .dataframe tbody tr th:only-of-type {\n",
       "        vertical-align: middle;\n",
       "    }\n",
       "\n",
       "    .dataframe tbody tr th {\n",
       "        vertical-align: top;\n",
       "    }\n",
       "\n",
       "    .dataframe thead th {\n",
       "        text-align: right;\n",
       "    }\n",
       "</style>\n",
       "<table border=\"1\" class=\"dataframe\">\n",
       "  <thead>\n",
       "    <tr style=\"text-align: right;\">\n",
       "      <th></th>\n",
       "      <th>iyear</th>\n",
       "      <th>country</th>\n",
       "      <th>region</th>\n",
       "      <th>provstate</th>\n",
       "      <th>suicide</th>\n",
       "      <th>weaptype1</th>\n",
       "      <th>is_sb</th>\n",
       "    </tr>\n",
       "  </thead>\n",
       "  <tbody>\n",
       "    <tr>\n",
       "      <th>3</th>\n",
       "      <td>1970</td>\n",
       "      <td>78</td>\n",
       "      <td>8</td>\n",
       "      <td>3</td>\n",
       "      <td>0</td>\n",
       "      <td>6</td>\n",
       "      <td>0</td>\n",
       "    </tr>\n",
       "    <tr>\n",
       "      <th>4</th>\n",
       "      <td>1970</td>\n",
       "      <td>101</td>\n",
       "      <td>4</td>\n",
       "      <td>4</td>\n",
       "      <td>0</td>\n",
       "      <td>8</td>\n",
       "      <td>0</td>\n",
       "    </tr>\n",
       "    <tr>\n",
       "      <th>5</th>\n",
       "      <td>1970</td>\n",
       "      <td>217</td>\n",
       "      <td>1</td>\n",
       "      <td>5</td>\n",
       "      <td>0</td>\n",
       "      <td>5</td>\n",
       "      <td>0</td>\n",
       "    </tr>\n",
       "    <tr>\n",
       "      <th>6</th>\n",
       "      <td>1970</td>\n",
       "      <td>218</td>\n",
       "      <td>3</td>\n",
       "      <td>6</td>\n",
       "      <td>0</td>\n",
       "      <td>5</td>\n",
       "      <td>0</td>\n",
       "    </tr>\n",
       "    <tr>\n",
       "      <th>7</th>\n",
       "      <td>1970</td>\n",
       "      <td>217</td>\n",
       "      <td>1</td>\n",
       "      <td>7</td>\n",
       "      <td>0</td>\n",
       "      <td>6</td>\n",
       "      <td>0</td>\n",
       "    </tr>\n",
       "    <tr>\n",
       "      <th>...</th>\n",
       "      <td>...</td>\n",
       "      <td>...</td>\n",
       "      <td>...</td>\n",
       "      <td>...</td>\n",
       "      <td>...</td>\n",
       "      <td>...</td>\n",
       "      <td>...</td>\n",
       "    </tr>\n",
       "    <tr>\n",
       "      <th>181686</th>\n",
       "      <td>2017</td>\n",
       "      <td>182</td>\n",
       "      <td>11</td>\n",
       "      <td>1356</td>\n",
       "      <td>0</td>\n",
       "      <td>5</td>\n",
       "      <td>0</td>\n",
       "    </tr>\n",
       "    <tr>\n",
       "      <th>181687</th>\n",
       "      <td>2017</td>\n",
       "      <td>200</td>\n",
       "      <td>10</td>\n",
       "      <td>2578</td>\n",
       "      <td>0</td>\n",
       "      <td>6</td>\n",
       "      <td>0</td>\n",
       "    </tr>\n",
       "    <tr>\n",
       "      <th>181688</th>\n",
       "      <td>2017</td>\n",
       "      <td>160</td>\n",
       "      <td>5</td>\n",
       "      <td>401</td>\n",
       "      <td>0</td>\n",
       "      <td>8</td>\n",
       "      <td>0</td>\n",
       "    </tr>\n",
       "    <tr>\n",
       "      <th>181689</th>\n",
       "      <td>2017</td>\n",
       "      <td>92</td>\n",
       "      <td>6</td>\n",
       "      <td>496</td>\n",
       "      <td>0</td>\n",
       "      <td>6</td>\n",
       "      <td>0</td>\n",
       "    </tr>\n",
       "    <tr>\n",
       "      <th>181690</th>\n",
       "      <td>2017</td>\n",
       "      <td>160</td>\n",
       "      <td>5</td>\n",
       "      <td>401</td>\n",
       "      <td>0</td>\n",
       "      <td>6</td>\n",
       "      <td>0</td>\n",
       "    </tr>\n",
       "  </tbody>\n",
       "</table>\n",
       "<p>166534 rows × 7 columns</p>\n",
       "</div>"
      ],
      "text/plain": [
       "        iyear  country  region  provstate  suicide  weaptype1  is_sb\n",
       "3        1970       78       8          3        0          6      0\n",
       "4        1970      101       4          4        0          8      0\n",
       "5        1970      217       1          5        0          5      0\n",
       "6        1970      218       3          6        0          5      0\n",
       "7        1970      217       1          7        0          6      0\n",
       "...       ...      ...     ...        ...      ...        ...    ...\n",
       "181686   2017      182      11       1356        0          5      0\n",
       "181687   2017      200      10       2578        0          6      0\n",
       "181688   2017      160       5        401        0          8      0\n",
       "181689   2017       92       6        496        0          6      0\n",
       "181690   2017      160       5        401        0          6      0\n",
       "\n",
       "[166534 rows x 7 columns]"
      ]
     },
     "execution_count": 7,
     "metadata": {},
     "output_type": "execute_result"
    }
   ],
   "source": [
    "# Filter out irrelevant columns\n",
    "cols_to_keep = [\"iyear\", \"country\", \"region\", \"provstate\", \"suicide\", \"weaptype1\"]\n",
    "preprocessed = df[cols_to_keep]\n",
    "\n",
    "# Filter out attacks with \"Unknown\" weapon type\n",
    "preprocessed = preprocessed[df[\"weaptype1\"] != 13]\n",
    "\n",
    "# Filter out nan provstate values and replace them with int codes\n",
    "preprocessed[\"provstate\"] = preprocessed[\"provstate\"].map(provstate_map)\n",
    "preprocessed = preprocessed[df[\"provstate\"] != 0]\n",
    "\n",
    "# Add column is_sb\n",
    "def is_sb(row):\n",
    "    if row['suicide'] == 1 and row['weaptype1'] == 6:\n",
    "        return 1\n",
    "    else:\n",
    "        return 0\n",
    "\n",
    "preprocessed[\"is_sb\"] = preprocessed.apply(lambda row: is_sb(row), axis=1)\n",
    "\n",
    "# len(preprocessed[preprocessed[\"is_sb\"] == 1])\n",
    "\n",
    "preprocessed"
   ]
  },
  {
   "cell_type": "code",
   "execution_count": 8,
   "metadata": {},
   "outputs": [],
   "source": [
    "# rename variable for better readability\n",
    "data = preprocessed"
   ]
  },
  {
   "cell_type": "code",
   "execution_count": 9,
   "metadata": {},
   "outputs": [
    {
     "data": {
      "text/html": [
       "<div>\n",
       "<style scoped>\n",
       "    .dataframe tbody tr th:only-of-type {\n",
       "        vertical-align: middle;\n",
       "    }\n",
       "\n",
       "    .dataframe tbody tr th {\n",
       "        vertical-align: top;\n",
       "    }\n",
       "\n",
       "    .dataframe thead th {\n",
       "        text-align: right;\n",
       "    }\n",
       "</style>\n",
       "<table border=\"1\" class=\"dataframe\">\n",
       "  <thead>\n",
       "    <tr style=\"text-align: right;\">\n",
       "      <th></th>\n",
       "      <th>iyear</th>\n",
       "      <th>country</th>\n",
       "      <th>region</th>\n",
       "      <th>provstate</th>\n",
       "      <th>suicide</th>\n",
       "      <th>weaptype1</th>\n",
       "      <th>is_sb</th>\n",
       "    </tr>\n",
       "  </thead>\n",
       "  <tbody>\n",
       "    <tr>\n",
       "      <th>count</th>\n",
       "      <td>166534.000000</td>\n",
       "      <td>166534.000000</td>\n",
       "      <td>166534.000000</td>\n",
       "      <td>166534.000000</td>\n",
       "      <td>166534.000000</td>\n",
       "      <td>166534.000000</td>\n",
       "      <td>166534.000000</td>\n",
       "    </tr>\n",
       "    <tr>\n",
       "      <th>mean</th>\n",
       "      <td>0.992916</td>\n",
       "      <td>0.132481</td>\n",
       "      <td>0.596720</td>\n",
       "      <td>0.241739</td>\n",
       "      <td>0.039818</td>\n",
       "      <td>0.487578</td>\n",
       "      <td>0.039559</td>\n",
       "    </tr>\n",
       "    <tr>\n",
       "      <th>std</th>\n",
       "      <td>0.006541</td>\n",
       "      <td>0.112472</td>\n",
       "      <td>0.243223</td>\n",
       "      <td>0.226577</td>\n",
       "      <td>0.195531</td>\n",
       "      <td>0.078622</td>\n",
       "      <td>0.194922</td>\n",
       "    </tr>\n",
       "    <tr>\n",
       "      <th>min</th>\n",
       "      <td>0.976698</td>\n",
       "      <td>0.003984</td>\n",
       "      <td>0.083333</td>\n",
       "      <td>0.000000</td>\n",
       "      <td>0.000000</td>\n",
       "      <td>0.083333</td>\n",
       "      <td>0.000000</td>\n",
       "    </tr>\n",
       "    <tr>\n",
       "      <th>25%</th>\n",
       "      <td>0.987110</td>\n",
       "      <td>0.082669</td>\n",
       "      <td>0.416667</td>\n",
       "      <td>0.070427</td>\n",
       "      <td>0.000000</td>\n",
       "      <td>0.416667</td>\n",
       "      <td>0.000000</td>\n",
       "    </tr>\n",
       "    <tr>\n",
       "      <th>50%</th>\n",
       "      <td>0.996034</td>\n",
       "      <td>0.097610</td>\n",
       "      <td>0.583333</td>\n",
       "      <td>0.169587</td>\n",
       "      <td>0.000000</td>\n",
       "      <td>0.500000</td>\n",
       "      <td>0.000000</td>\n",
       "    </tr>\n",
       "    <tr>\n",
       "      <th>75%</th>\n",
       "      <td>0.998513</td>\n",
       "      <td>0.159363</td>\n",
       "      <td>0.833333</td>\n",
       "      <td>0.331114</td>\n",
       "      <td>0.000000</td>\n",
       "      <td>0.500000</td>\n",
       "      <td>0.000000</td>\n",
       "    </tr>\n",
       "    <tr>\n",
       "      <th>max</th>\n",
       "      <td>1.000000</td>\n",
       "      <td>1.000000</td>\n",
       "      <td>1.000000</td>\n",
       "      <td>1.000000</td>\n",
       "      <td>1.000000</td>\n",
       "      <td>1.000000</td>\n",
       "      <td>1.000000</td>\n",
       "    </tr>\n",
       "  </tbody>\n",
       "</table>\n",
       "</div>"
      ],
      "text/plain": [
       "               iyear        country         region      provstate  \\\n",
       "count  166534.000000  166534.000000  166534.000000  166534.000000   \n",
       "mean        0.992916       0.132481       0.596720       0.241739   \n",
       "std         0.006541       0.112472       0.243223       0.226577   \n",
       "min         0.976698       0.003984       0.083333       0.000000   \n",
       "25%         0.987110       0.082669       0.416667       0.070427   \n",
       "50%         0.996034       0.097610       0.583333       0.169587   \n",
       "75%         0.998513       0.159363       0.833333       0.331114   \n",
       "max         1.000000       1.000000       1.000000       1.000000   \n",
       "\n",
       "             suicide      weaptype1          is_sb  \n",
       "count  166534.000000  166534.000000  166534.000000  \n",
       "mean        0.039818       0.487578       0.039559  \n",
       "std         0.195531       0.078622       0.194922  \n",
       "min         0.000000       0.083333       0.000000  \n",
       "25%         0.000000       0.416667       0.000000  \n",
       "50%         0.000000       0.500000       0.000000  \n",
       "75%         0.000000       0.500000       0.000000  \n",
       "max         1.000000       1.000000       1.000000  "
      ]
     },
     "execution_count": 9,
     "metadata": {},
     "output_type": "execute_result"
    }
   ],
   "source": [
    "target_column = ['is_sb'] \n",
    "\n",
    "predictors = list(set(list(data.columns)) - set(target_column))\n",
    "\n",
    "data[predictors] = data[predictors] / data[predictors].max()\n",
    "data.describe()"
   ]
  },
  {
   "cell_type": "code",
   "execution_count": 19,
   "metadata": {},
   "outputs": [
    {
     "data": {
      "text/plain": [
       "array([0, 1])"
      ]
     },
     "execution_count": 19,
     "metadata": {},
     "output_type": "execute_result"
    }
   ],
   "source": [
    "\n",
    "X = data[predictors].values\n",
    "Y = data[target_column].values\n",
    "\n",
    "Y\n",
    "np.unique(Y)"
   ]
  },
  {
   "cell_type": "code",
   "execution_count": 31,
   "metadata": {},
   "outputs": [],
   "source": [
    "cwt = { \n",
    "    0: 1, \n",
    "    1: 2 \n",
    "}"
   ]
  },
  {
   "cell_type": "code",
   "execution_count": 43,
   "metadata": {},
   "outputs": [
    {
     "name": "stdout",
     "output_type": "stream",
     "text": [
      "Epoch 1/50\n",
      "778/778 [==============================] - 3s 4ms/step - loss: 0.2777 - accuracy: 0.9784 - val_loss: 0.0194 - val_accuracy: 0.9997\n",
      "Epoch 2/50\n",
      "778/778 [==============================] - 2s 3ms/step - loss: 0.0097 - accuracy: 0.9997 - val_loss: 0.0043 - val_accuracy: 0.9997\n",
      "Epoch 3/50\n",
      "778/778 [==============================] - 3s 3ms/step - loss: 0.0033 - accuracy: 0.9997 - val_loss: 0.0029 - val_accuracy: 0.9997\n",
      "Epoch 4/50\n",
      "778/778 [==============================] - 3s 4ms/step - loss: 0.0022 - accuracy: 0.9997 - val_loss: 0.0024 - val_accuracy: 0.9997\n",
      "Epoch 5/50\n",
      "778/778 [==============================] - 2s 3ms/step - loss: 0.0018 - accuracy: 0.9997 - val_loss: 0.0019 - val_accuracy: 0.9997\n",
      "Epoch 6/50\n",
      "778/778 [==============================] - 2s 3ms/step - loss: 0.0017 - accuracy: 0.9997 - val_loss: 0.0019 - val_accuracy: 0.9997\n",
      "Epoch 7/50\n",
      "778/778 [==============================] - 2s 3ms/step - loss: 0.0015 - accuracy: 0.9997 - val_loss: 0.0017 - val_accuracy: 0.9997\n",
      "Epoch 8/50\n",
      "778/778 [==============================] - 3s 3ms/step - loss: 0.0015 - accuracy: 0.9997 - val_loss: 0.0016 - val_accuracy: 0.9997\n",
      "Epoch 9/50\n",
      "778/778 [==============================] - 2s 3ms/step - loss: 0.0014 - accuracy: 0.9997 - val_loss: 0.0015 - val_accuracy: 0.9997\n",
      "Epoch 10/50\n",
      "778/778 [==============================] - 3s 4ms/step - loss: 0.0014 - accuracy: 0.9997 - val_loss: 0.0015 - val_accuracy: 0.9997\n",
      "Epoch 11/50\n",
      "778/778 [==============================] - 3s 4ms/step - loss: 0.0014 - accuracy: 0.9997 - val_loss: 0.0014 - val_accuracy: 0.9997\n",
      "Epoch 12/50\n",
      "778/778 [==============================] - 4s 5ms/step - loss: 0.0013 - accuracy: 0.9997 - val_loss: 0.0025 - val_accuracy: 0.9997\n",
      "Epoch 13/50\n",
      "778/778 [==============================] - 2s 3ms/step - loss: 0.0013 - accuracy: 0.9997 - val_loss: 0.0016 - val_accuracy: 0.9997\n",
      "Epoch 14/50\n",
      "778/778 [==============================] - 3s 4ms/step - loss: 0.0013 - accuracy: 0.9997 - val_loss: 0.0014 - val_accuracy: 0.9997\n",
      "Epoch 15/50\n",
      "778/778 [==============================] - 2s 3ms/step - loss: 0.0013 - accuracy: 0.9997 - val_loss: 0.0014 - val_accuracy: 0.9997\n",
      "Epoch 16/50\n",
      "778/778 [==============================] - 3s 3ms/step - loss: 0.0013 - accuracy: 0.9997 - val_loss: 0.0014 - val_accuracy: 0.9997\n",
      "Epoch 17/50\n",
      "778/778 [==============================] - 3s 4ms/step - loss: 0.0013 - accuracy: 0.9997 - val_loss: 0.0014 - val_accuracy: 0.9997\n",
      "Epoch 18/50\n",
      "778/778 [==============================] - 2s 3ms/step - loss: 0.0013 - accuracy: 0.9997 - val_loss: 0.0013 - val_accuracy: 0.9997\n",
      "Epoch 19/50\n",
      "778/778 [==============================] - 3s 3ms/step - loss: 0.0013 - accuracy: 0.9997 - val_loss: 0.0013 - val_accuracy: 0.9997\n",
      "Epoch 20/50\n",
      "778/778 [==============================] - 3s 4ms/step - loss: 0.0013 - accuracy: 0.9997 - val_loss: 0.0014 - val_accuracy: 0.9997\n",
      "Epoch 21/50\n",
      "778/778 [==============================] - 3s 4ms/step - loss: 0.0013 - accuracy: 0.9997 - val_loss: 0.0013 - val_accuracy: 0.9997\n",
      "Epoch 22/50\n",
      "778/778 [==============================] - 3s 4ms/step - loss: 0.0013 - accuracy: 0.9997 - val_loss: 0.0013 - val_accuracy: 0.9997\n",
      "Epoch 23/50\n",
      "778/778 [==============================] - 3s 4ms/step - loss: 0.0012 - accuracy: 0.9998 - val_loss: 0.0014 - val_accuracy: 0.9997\n",
      "Epoch 24/50\n",
      "778/778 [==============================] - 2s 3ms/step - loss: 0.0013 - accuracy: 0.9997 - val_loss: 0.0013 - val_accuracy: 0.9997\n",
      "Epoch 25/50\n",
      "778/778 [==============================] - 3s 3ms/step - loss: 0.0013 - accuracy: 0.9997 - val_loss: 0.0013 - val_accuracy: 0.9997\n",
      "Epoch 26/50\n",
      "778/778 [==============================] - 3s 4ms/step - loss: 0.0013 - accuracy: 0.9998 - val_loss: 0.0013 - val_accuracy: 0.9997\n",
      "Epoch 27/50\n",
      "778/778 [==============================] - 3s 3ms/step - loss: 0.0012 - accuracy: 0.9997 - val_loss: 0.0014 - val_accuracy: 0.9997\n",
      "Epoch 28/50\n",
      "778/778 [==============================] - 2s 3ms/step - loss: 0.0013 - accuracy: 0.9997 - val_loss: 0.0013 - val_accuracy: 0.9997\n",
      "Epoch 29/50\n",
      "778/778 [==============================] - 3s 3ms/step - loss: 0.0012 - accuracy: 0.9997 - val_loss: 0.0013 - val_accuracy: 0.9997\n",
      "Epoch 30/50\n",
      "778/778 [==============================] - 2s 3ms/step - loss: 0.0013 - accuracy: 0.9997 - val_loss: 0.0016 - val_accuracy: 0.9998\n",
      "Epoch 31/50\n",
      "778/778 [==============================] - 3s 3ms/step - loss: 0.0013 - accuracy: 0.9997 - val_loss: 0.0014 - val_accuracy: 0.9997\n",
      "Epoch 32/50\n",
      "778/778 [==============================] - 3s 4ms/step - loss: 0.0012 - accuracy: 0.9997 - val_loss: 0.0016 - val_accuracy: 0.9998\n",
      "Epoch 33/50\n",
      "778/778 [==============================] - 2s 3ms/step - loss: 0.0013 - accuracy: 0.9997 - val_loss: 0.0013 - val_accuracy: 0.9997\n",
      "Epoch 34/50\n",
      "778/778 [==============================] - 3s 3ms/step - loss: 0.0012 - accuracy: 0.9997 - val_loss: 0.0013 - val_accuracy: 0.9997\n",
      "Epoch 35/50\n",
      "778/778 [==============================] - 2s 3ms/step - loss: 0.0012 - accuracy: 0.9997 - val_loss: 0.0014 - val_accuracy: 0.9997\n",
      "Epoch 36/50\n",
      "778/778 [==============================] - 3s 3ms/step - loss: 0.0012 - accuracy: 0.9997 - val_loss: 0.0014 - val_accuracy: 0.9997\n",
      "Epoch 37/50\n",
      "778/778 [==============================] - 3s 4ms/step - loss: 0.0012 - accuracy: 0.9997 - val_loss: 0.0014 - val_accuracy: 0.9998\n",
      "Epoch 38/50\n",
      "778/778 [==============================] - 3s 4ms/step - loss: 0.0012 - accuracy: 0.9997 - val_loss: 0.0014 - val_accuracy: 0.9998\n",
      "Epoch 39/50\n",
      "778/778 [==============================] - 4s 5ms/step - loss: 0.0012 - accuracy: 0.9997 - val_loss: 0.0015 - val_accuracy: 0.9998\n",
      "Epoch 40/50\n",
      "778/778 [==============================] - 2s 3ms/step - loss: 0.0012 - accuracy: 0.9997 - val_loss: 0.0014 - val_accuracy: 0.9997\n",
      "Epoch 41/50\n",
      "778/778 [==============================] - 2s 3ms/step - loss: 0.0012 - accuracy: 0.9997 - val_loss: 0.0014 - val_accuracy: 0.9998\n",
      "Epoch 42/50\n",
      "778/778 [==============================] - 3s 4ms/step - loss: 0.0012 - accuracy: 0.9998 - val_loss: 0.0014 - val_accuracy: 0.9998\n",
      "Epoch 43/50\n",
      "778/778 [==============================] - 3s 3ms/step - loss: 0.0012 - accuracy: 0.9997 - val_loss: 0.0015 - val_accuracy: 0.9998\n",
      "Epoch 44/50\n",
      "778/778 [==============================] - 3s 3ms/step - loss: 0.0012 - accuracy: 0.9997 - val_loss: 0.0014 - val_accuracy: 0.9998\n",
      "Epoch 45/50\n",
      "778/778 [==============================] - 3s 4ms/step - loss: 0.0012 - accuracy: 0.9998 - val_loss: 0.0016 - val_accuracy: 0.9998\n",
      "Epoch 46/50\n",
      "778/778 [==============================] - 3s 4ms/step - loss: 0.0012 - accuracy: 0.9998 - val_loss: 0.0014 - val_accuracy: 0.9997\n",
      "Epoch 47/50\n",
      "778/778 [==============================] - 3s 4ms/step - loss: 0.0012 - accuracy: 0.9997 - val_loss: 0.0014 - val_accuracy: 0.9997\n",
      "Epoch 48/50\n",
      "778/778 [==============================] - 2s 3ms/step - loss: 0.0012 - accuracy: 0.9998 - val_loss: 0.0014 - val_accuracy: 0.9998\n",
      "Epoch 49/50\n",
      "778/778 [==============================] - 2s 3ms/step - loss: 0.0012 - accuracy: 0.9998 - val_loss: 0.0014 - val_accuracy: 0.9998\n",
      "Epoch 50/50\n",
      "778/778 [==============================] - 3s 3ms/step - loss: 0.0012 - accuracy: 0.9997 - val_loss: 0.0017 - val_accuracy: 0.9998\n"
     ]
    }
   ],
   "source": [
    "model = Sequential()\n",
    "model.add(Dense(6, activation='relu', input_dim=6))\n",
    "model.add(Dense(8, activation='relu'))\n",
    "model.add(Dense(1, activation='sigmoid'))\n",
    "\n",
    "# model.fit(X, Y, batch_size=35, epochs=20)\n",
    "\n",
    "# Compile the model\n",
    "model.compile(optimizer='adam', \n",
    "              loss=\"binary_crossentropy\", \n",
    "              metrics=['accuracy'])\n",
    "\n",
    "history = model.fit(X, Y, validation_split = 0.3, epochs=50, batch_size=150)"
   ]
  },
  {
   "cell_type": "code",
   "execution_count": 36,
   "metadata": {},
   "outputs": [
    {
     "name": "stdout",
     "output_type": "stream",
     "text": [
      "5205/5205 [==============================] - 5s 1ms/step\n",
      "Accuracy on test data: 0.9997958540916443% \n",
      " Error on test data: 0.0002041459083557129\n"
     ]
    },
    {
     "data": {
      "text/plain": [
       "array([[166534]])"
      ]
     },
     "execution_count": 36,
     "metadata": {},
     "output_type": "execute_result"
    }
   ],
   "source": [
    "pred_test= model.predict(X)\n",
    "scores2 = model.evaluate(X, Y, verbose=0)\n",
    "\n",
    "print('Accuracy on test data: {}% \\n Error on test data: {}'.format(scores2[1], 1 - scores2[1]))\n",
    "# confusion_matrix(Y.argmax(axis=1), pred_test.argmax(axis=1))"
   ]
  },
  {
   "cell_type": "code",
   "execution_count": 40,
   "metadata": {},
   "outputs": [
    {
     "name": "stdout",
     "output_type": "stream",
     "text": [
      "Accuracy: 1.0\n"
     ]
    }
   ],
   "source": [
    "# Load the trained model (assuming Gaussian Naive Bayes)\n",
    "model = GaussianNB()\n",
    "model.fit(X, Y.ravel())\n",
    "\n",
    "# Apply the model to test data\n",
    "y_pred = model.predict(X)\n",
    "\n",
    "# Evaluate the model's performance\n",
    "accuracy = accuracy_score(Y.ravel(), y_pred)\n",
    "print(\"Accuracy:\", accuracy)"
   ]
  },
  {
   "cell_type": "code",
   "execution_count": 47,
   "metadata": {},
   "outputs": [
    {
     "data": {
      "image/png": "[encoded data removed]",
      "text/plain": [
       "<Figure size 640x480 with 1 Axes>"
      ]
     },
     "metadata": {},
     "output_type": "display_data"
    }
   ],
   "source": [
    "plot_data = history.take()\n",
    "\n",
    "plt.plot(history.history['loss'])\n",
    "plt.plot(history.history['val_loss'])\n",
    " \n",
    "plt.title('model loss')\n",
    "plt.ylabel('loss')\n",
    "plt.xlabel('epoch')\n",
    "\n",
    "plt.legend(['train', 'test'], loc='upper right')\n",
    "\n",
    "plt.show()"
   ]
  }
 ],
 "metadata": {
  "kernelspec": {
   "display_name": "Python 3",
   "language": "python",
   "name": "python3"
  },
  "language_info": {
   "codemirror_mode": {
    "name": "ipython",
    "version": 3
   },
   "file_extension": ".py",
   "mimetype": "text/x-python",
   "name": "python",
   "nbconvert_exporter": "python",
   "pygments_lexer": "ipython3",
   "version": "3.11.3"
  },
  "orig_nbformat": 4
 },
 "nbformat": 4,
 "nbformat_minor": 2
}
